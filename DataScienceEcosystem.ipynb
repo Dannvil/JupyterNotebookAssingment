{
 "cells": [
  {
   "cell_type": "markdown",
   "id": "7d544d48-0cbd-4700-a92a-00e49b9a16fb",
   "metadata": {},
   "source": [
    "# Data Science Tools and Ecosystem"
   ]
  },
  {
   "cell_type": "markdown",
   "id": "1d32cb2b-fa5c-4710-95c4-0bbc8c4c0b1d",
   "metadata": {},
   "source": [
    "In this notebook, Data Science Tools and Ecosystem are summarized."
   ]
  },
  {
   "cell_type": "markdown",
   "id": "ab7a73b4-0e2b-4954-ba88-041cf9534745",
   "metadata": {},
   "source": [
    "**Objectives**\n",
    "\n",
    "This notebook covers the following:\n",
    "- Popular languages that are used in Data Science\n",
    "- Commonly used libraries used in Data Science\n",
    "- Popular Data Science tools and what a formatted table appears as in a Jupyter Notebook\n",
    "- Simple mathematic expressions done in Python"
   ]
  },
  {
   "cell_type": "markdown",
   "id": "f00673e4-cade-4c86-bead-7fd57435e006",
   "metadata": {},
   "source": [
    "Some of the popular languages that Data Scientists use are:\n",
    "1. R\n",
    "2. Python\n",
    "3. SQL"
   ]
  },
  {
   "cell_type": "markdown",
   "id": "4a30131c-a8c0-4e14-a498-6992947d7ae0",
   "metadata": {},
   "source": [
    "Some of the commonly used libraries used by Data Scientists include:\n",
    "1. TensorFlow\n",
    "2. NumPy\n",
    "3. Scipy\n",
    "4. Pandas\n",
    "5. Keras\n",
    "6. Matplotlib\n",
    "7. SciKit-Learn\n",
    "8. PyTorch\n",
    "9. Seaborn\n",
    "10. Statsmodels"
   ]
  },
  {
   "cell_type": "markdown",
   "id": "006b51c8-6b2f-40b7-a542-076d57cf2f66",
   "metadata": {
    "tags": []
   },
   "source": [
    "| Data Science Tools|\n",
    "| ----|\n",
    "| Jupyter|\n",
    "| R| \n",
    "| Spyder|\n",
    "| Julia|\n"
   ]
  },
  {
   "cell_type": "markdown",
   "id": "87542d9f-e606-4097-b20d-c081b14afc0f",
   "metadata": {},
   "source": [
    "### Below are a few examples of evaluating arithmetic expressions in Python."
   ]
  },
  {
   "cell_type": "code",
   "execution_count": 10,
   "id": "b75b7807-8201-4805-bd28-eb6a36937530",
   "metadata": {
    "tags": []
   },
   "outputs": [
    {
     "data": {
      "text/plain": [
       "17"
      ]
     },
     "execution_count": 10,
     "metadata": {},
     "output_type": "execute_result"
    }
   ],
   "source": [
    "# This a simple arithmetic expression to mutiply then add integers\n",
    "\n",
    "(3*4)+5"
   ]
  },
  {
   "cell_type": "code",
   "execution_count": 11,
   "id": "12e54838-c1be-489e-ab68-661fc37b8c89",
   "metadata": {
    "tags": []
   },
   "outputs": [
    {
     "data": {
      "text/plain": [
       "3.3333333333333335"
      ]
     },
     "execution_count": 11,
     "metadata": {},
     "output_type": "execute_result"
    }
   ],
   "source": [
    "# This will convert 200 minutes to hours by diving by 60\n",
    "\n",
    "200/60"
   ]
  },
  {
   "cell_type": "markdown",
   "id": "66fe46e0-a639-4681-9e59-c8d3d87c39e4",
   "metadata": {
    "tags": []
   },
   "source": [
    "## Author\n",
    "Daniel van Veelen"
   ]
  }
 ],
 "metadata": {
  "kernelspec": {
   "display_name": "Python",
   "language": "python",
   "name": "conda-env-python-py"
  },
  "language_info": {
   "codemirror_mode": {
    "name": "ipython",
    "version": 3
   },
   "file_extension": ".py",
   "mimetype": "text/x-python",
   "name": "python",
   "nbconvert_exporter": "python",
   "pygments_lexer": "ipython3",
   "version": "3.7.12"
  }
 },
 "nbformat": 4,
 "nbformat_minor": 5
}
